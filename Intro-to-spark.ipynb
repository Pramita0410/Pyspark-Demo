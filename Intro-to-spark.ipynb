{
 "cells": [
  {
   "cell_type": "code",
   "execution_count": 6,
   "id": "ef51e0c2",
   "metadata": {},
   "outputs": [],
   "source": [
    "from pyspark.sql import SparkSession\n",
    "import pandas as pd"
   ]
  },
  {
   "cell_type": "code",
   "execution_count": 2,
   "id": "793702a5",
   "metadata": {},
   "outputs": [],
   "source": [
    "spark =  SparkSession.builder.appName('my-spark').getOrCreate()"
   ]
  },
  {
   "cell_type": "code",
   "execution_count": 3,
   "id": "1f2ce2cb",
   "metadata": {},
   "outputs": [
    {
     "data": {
      "text/html": [
       "\n",
       "            <div>\n",
       "                <p><b>SparkSession - in-memory</b></p>\n",
       "                \n",
       "        <div>\n",
       "            <p><b>SparkContext</b></p>\n",
       "\n",
       "            <p><a href=\"http://MSI.mynetworksettings.com:4040\">Spark UI</a></p>\n",
       "\n",
       "            <dl>\n",
       "              <dt>Version</dt>\n",
       "                <dd><code>v3.5.1</code></dd>\n",
       "              <dt>Master</dt>\n",
       "                <dd><code>local[*]</code></dd>\n",
       "              <dt>AppName</dt>\n",
       "                <dd><code>my-spark</code></dd>\n",
       "            </dl>\n",
       "        </div>\n",
       "        \n",
       "            </div>\n",
       "        "
      ],
      "text/plain": [
       "<pyspark.sql.session.SparkSession at 0x22a79de0430>"
      ]
     },
     "execution_count": 3,
     "metadata": {},
     "output_type": "execute_result"
    }
   ],
   "source": [
    "spark"
   ]
  },
  {
   "cell_type": "markdown",
   "id": "70588730",
   "metadata": {},
   "source": [
    "### Read CSV |"
   ]
  },
  {
   "cell_type": "code",
   "execution_count": 7,
   "id": "e269d134",
   "metadata": {},
   "outputs": [
    {
     "data": {
      "text/html": [
       "<div>\n",
       "<style scoped>\n",
       "    .dataframe tbody tr th:only-of-type {\n",
       "        vertical-align: middle;\n",
       "    }\n",
       "\n",
       "    .dataframe tbody tr th {\n",
       "        vertical-align: top;\n",
       "    }\n",
       "\n",
       "    .dataframe thead th {\n",
       "        text-align: right;\n",
       "    }\n",
       "</style>\n",
       "<table border=\"1\" class=\"dataframe\">\n",
       "  <thead>\n",
       "    <tr style=\"text-align: right;\">\n",
       "      <th></th>\n",
       "      <th>Date</th>\n",
       "      <th>Location</th>\n",
       "      <th>MinTemp</th>\n",
       "      <th>MaxTemp</th>\n",
       "      <th>Rainfall</th>\n",
       "      <th>Evaporation</th>\n",
       "      <th>Sunshine</th>\n",
       "      <th>WindGustDir</th>\n",
       "      <th>WindGustSpeed</th>\n",
       "      <th>WindDir9am</th>\n",
       "      <th>...</th>\n",
       "      <th>Humidity9am</th>\n",
       "      <th>Humidity3pm</th>\n",
       "      <th>Pressure9am</th>\n",
       "      <th>Pressure3pm</th>\n",
       "      <th>Cloud9am</th>\n",
       "      <th>Cloud3pm</th>\n",
       "      <th>Temp9am</th>\n",
       "      <th>Temp3pm</th>\n",
       "      <th>RainToday</th>\n",
       "      <th>RainTomorrow</th>\n",
       "    </tr>\n",
       "  </thead>\n",
       "  <tbody>\n",
       "    <tr>\n",
       "      <th>0</th>\n",
       "      <td>2008-12-01</td>\n",
       "      <td>Albury</td>\n",
       "      <td>13.4</td>\n",
       "      <td>22.9</td>\n",
       "      <td>0.6</td>\n",
       "      <td>NaN</td>\n",
       "      <td>NaN</td>\n",
       "      <td>W</td>\n",
       "      <td>44.0</td>\n",
       "      <td>W</td>\n",
       "      <td>...</td>\n",
       "      <td>71.0</td>\n",
       "      <td>22.0</td>\n",
       "      <td>1007.7</td>\n",
       "      <td>1007.1</td>\n",
       "      <td>8.0</td>\n",
       "      <td>NaN</td>\n",
       "      <td>16.9</td>\n",
       "      <td>21.8</td>\n",
       "      <td>No</td>\n",
       "      <td>No</td>\n",
       "    </tr>\n",
       "    <tr>\n",
       "      <th>1</th>\n",
       "      <td>2008-12-02</td>\n",
       "      <td>Albury</td>\n",
       "      <td>7.4</td>\n",
       "      <td>25.1</td>\n",
       "      <td>0.0</td>\n",
       "      <td>NaN</td>\n",
       "      <td>NaN</td>\n",
       "      <td>WNW</td>\n",
       "      <td>44.0</td>\n",
       "      <td>NNW</td>\n",
       "      <td>...</td>\n",
       "      <td>44.0</td>\n",
       "      <td>25.0</td>\n",
       "      <td>1010.6</td>\n",
       "      <td>1007.8</td>\n",
       "      <td>NaN</td>\n",
       "      <td>NaN</td>\n",
       "      <td>17.2</td>\n",
       "      <td>24.3</td>\n",
       "      <td>No</td>\n",
       "      <td>No</td>\n",
       "    </tr>\n",
       "    <tr>\n",
       "      <th>2</th>\n",
       "      <td>2008-12-03</td>\n",
       "      <td>Albury</td>\n",
       "      <td>12.9</td>\n",
       "      <td>25.7</td>\n",
       "      <td>0.0</td>\n",
       "      <td>NaN</td>\n",
       "      <td>NaN</td>\n",
       "      <td>WSW</td>\n",
       "      <td>46.0</td>\n",
       "      <td>W</td>\n",
       "      <td>...</td>\n",
       "      <td>38.0</td>\n",
       "      <td>30.0</td>\n",
       "      <td>1007.6</td>\n",
       "      <td>1008.7</td>\n",
       "      <td>NaN</td>\n",
       "      <td>2.0</td>\n",
       "      <td>21.0</td>\n",
       "      <td>23.2</td>\n",
       "      <td>No</td>\n",
       "      <td>No</td>\n",
       "    </tr>\n",
       "    <tr>\n",
       "      <th>3</th>\n",
       "      <td>2008-12-04</td>\n",
       "      <td>Albury</td>\n",
       "      <td>9.2</td>\n",
       "      <td>28.0</td>\n",
       "      <td>0.0</td>\n",
       "      <td>NaN</td>\n",
       "      <td>NaN</td>\n",
       "      <td>NE</td>\n",
       "      <td>24.0</td>\n",
       "      <td>SE</td>\n",
       "      <td>...</td>\n",
       "      <td>45.0</td>\n",
       "      <td>16.0</td>\n",
       "      <td>1017.6</td>\n",
       "      <td>1012.8</td>\n",
       "      <td>NaN</td>\n",
       "      <td>NaN</td>\n",
       "      <td>18.1</td>\n",
       "      <td>26.5</td>\n",
       "      <td>No</td>\n",
       "      <td>No</td>\n",
       "    </tr>\n",
       "    <tr>\n",
       "      <th>4</th>\n",
       "      <td>2008-12-05</td>\n",
       "      <td>Albury</td>\n",
       "      <td>17.5</td>\n",
       "      <td>32.3</td>\n",
       "      <td>1.0</td>\n",
       "      <td>NaN</td>\n",
       "      <td>NaN</td>\n",
       "      <td>W</td>\n",
       "      <td>41.0</td>\n",
       "      <td>ENE</td>\n",
       "      <td>...</td>\n",
       "      <td>82.0</td>\n",
       "      <td>33.0</td>\n",
       "      <td>1010.8</td>\n",
       "      <td>1006.0</td>\n",
       "      <td>7.0</td>\n",
       "      <td>8.0</td>\n",
       "      <td>17.8</td>\n",
       "      <td>29.7</td>\n",
       "      <td>No</td>\n",
       "      <td>No</td>\n",
       "    </tr>\n",
       "    <tr>\n",
       "      <th>...</th>\n",
       "      <td>...</td>\n",
       "      <td>...</td>\n",
       "      <td>...</td>\n",
       "      <td>...</td>\n",
       "      <td>...</td>\n",
       "      <td>...</td>\n",
       "      <td>...</td>\n",
       "      <td>...</td>\n",
       "      <td>...</td>\n",
       "      <td>...</td>\n",
       "      <td>...</td>\n",
       "      <td>...</td>\n",
       "      <td>...</td>\n",
       "      <td>...</td>\n",
       "      <td>...</td>\n",
       "      <td>...</td>\n",
       "      <td>...</td>\n",
       "      <td>...</td>\n",
       "      <td>...</td>\n",
       "      <td>...</td>\n",
       "      <td>...</td>\n",
       "    </tr>\n",
       "    <tr>\n",
       "      <th>145455</th>\n",
       "      <td>2017-06-21</td>\n",
       "      <td>Uluru</td>\n",
       "      <td>2.8</td>\n",
       "      <td>23.4</td>\n",
       "      <td>0.0</td>\n",
       "      <td>NaN</td>\n",
       "      <td>NaN</td>\n",
       "      <td>E</td>\n",
       "      <td>31.0</td>\n",
       "      <td>SE</td>\n",
       "      <td>...</td>\n",
       "      <td>51.0</td>\n",
       "      <td>24.0</td>\n",
       "      <td>1024.6</td>\n",
       "      <td>1020.3</td>\n",
       "      <td>NaN</td>\n",
       "      <td>NaN</td>\n",
       "      <td>10.1</td>\n",
       "      <td>22.4</td>\n",
       "      <td>No</td>\n",
       "      <td>No</td>\n",
       "    </tr>\n",
       "    <tr>\n",
       "      <th>145456</th>\n",
       "      <td>2017-06-22</td>\n",
       "      <td>Uluru</td>\n",
       "      <td>3.6</td>\n",
       "      <td>25.3</td>\n",
       "      <td>0.0</td>\n",
       "      <td>NaN</td>\n",
       "      <td>NaN</td>\n",
       "      <td>NNW</td>\n",
       "      <td>22.0</td>\n",
       "      <td>SE</td>\n",
       "      <td>...</td>\n",
       "      <td>56.0</td>\n",
       "      <td>21.0</td>\n",
       "      <td>1023.5</td>\n",
       "      <td>1019.1</td>\n",
       "      <td>NaN</td>\n",
       "      <td>NaN</td>\n",
       "      <td>10.9</td>\n",
       "      <td>24.5</td>\n",
       "      <td>No</td>\n",
       "      <td>No</td>\n",
       "    </tr>\n",
       "    <tr>\n",
       "      <th>145457</th>\n",
       "      <td>2017-06-23</td>\n",
       "      <td>Uluru</td>\n",
       "      <td>5.4</td>\n",
       "      <td>26.9</td>\n",
       "      <td>0.0</td>\n",
       "      <td>NaN</td>\n",
       "      <td>NaN</td>\n",
       "      <td>N</td>\n",
       "      <td>37.0</td>\n",
       "      <td>SE</td>\n",
       "      <td>...</td>\n",
       "      <td>53.0</td>\n",
       "      <td>24.0</td>\n",
       "      <td>1021.0</td>\n",
       "      <td>1016.8</td>\n",
       "      <td>NaN</td>\n",
       "      <td>NaN</td>\n",
       "      <td>12.5</td>\n",
       "      <td>26.1</td>\n",
       "      <td>No</td>\n",
       "      <td>No</td>\n",
       "    </tr>\n",
       "    <tr>\n",
       "      <th>145458</th>\n",
       "      <td>2017-06-24</td>\n",
       "      <td>Uluru</td>\n",
       "      <td>7.8</td>\n",
       "      <td>27.0</td>\n",
       "      <td>0.0</td>\n",
       "      <td>NaN</td>\n",
       "      <td>NaN</td>\n",
       "      <td>SE</td>\n",
       "      <td>28.0</td>\n",
       "      <td>SSE</td>\n",
       "      <td>...</td>\n",
       "      <td>51.0</td>\n",
       "      <td>24.0</td>\n",
       "      <td>1019.4</td>\n",
       "      <td>1016.5</td>\n",
       "      <td>3.0</td>\n",
       "      <td>2.0</td>\n",
       "      <td>15.1</td>\n",
       "      <td>26.0</td>\n",
       "      <td>No</td>\n",
       "      <td>No</td>\n",
       "    </tr>\n",
       "    <tr>\n",
       "      <th>145459</th>\n",
       "      <td>2017-06-25</td>\n",
       "      <td>Uluru</td>\n",
       "      <td>14.9</td>\n",
       "      <td>NaN</td>\n",
       "      <td>0.0</td>\n",
       "      <td>NaN</td>\n",
       "      <td>NaN</td>\n",
       "      <td>NaN</td>\n",
       "      <td>NaN</td>\n",
       "      <td>ESE</td>\n",
       "      <td>...</td>\n",
       "      <td>62.0</td>\n",
       "      <td>36.0</td>\n",
       "      <td>1020.2</td>\n",
       "      <td>1017.9</td>\n",
       "      <td>8.0</td>\n",
       "      <td>8.0</td>\n",
       "      <td>15.0</td>\n",
       "      <td>20.9</td>\n",
       "      <td>No</td>\n",
       "      <td>NaN</td>\n",
       "    </tr>\n",
       "  </tbody>\n",
       "</table>\n",
       "<p>145460 rows × 23 columns</p>\n",
       "</div>"
      ],
      "text/plain": [
       "              Date Location  MinTemp  MaxTemp  Rainfall  Evaporation  \\\n",
       "0       2008-12-01   Albury     13.4     22.9       0.6          NaN   \n",
       "1       2008-12-02   Albury      7.4     25.1       0.0          NaN   \n",
       "2       2008-12-03   Albury     12.9     25.7       0.0          NaN   \n",
       "3       2008-12-04   Albury      9.2     28.0       0.0          NaN   \n",
       "4       2008-12-05   Albury     17.5     32.3       1.0          NaN   \n",
       "...            ...      ...      ...      ...       ...          ...   \n",
       "145455  2017-06-21    Uluru      2.8     23.4       0.0          NaN   \n",
       "145456  2017-06-22    Uluru      3.6     25.3       0.0          NaN   \n",
       "145457  2017-06-23    Uluru      5.4     26.9       0.0          NaN   \n",
       "145458  2017-06-24    Uluru      7.8     27.0       0.0          NaN   \n",
       "145459  2017-06-25    Uluru     14.9      NaN       0.0          NaN   \n",
       "\n",
       "        Sunshine WindGustDir  WindGustSpeed WindDir9am  ... Humidity9am  \\\n",
       "0            NaN           W           44.0          W  ...        71.0   \n",
       "1            NaN         WNW           44.0        NNW  ...        44.0   \n",
       "2            NaN         WSW           46.0          W  ...        38.0   \n",
       "3            NaN          NE           24.0         SE  ...        45.0   \n",
       "4            NaN           W           41.0        ENE  ...        82.0   \n",
       "...          ...         ...            ...        ...  ...         ...   \n",
       "145455       NaN           E           31.0         SE  ...        51.0   \n",
       "145456       NaN         NNW           22.0         SE  ...        56.0   \n",
       "145457       NaN           N           37.0         SE  ...        53.0   \n",
       "145458       NaN          SE           28.0        SSE  ...        51.0   \n",
       "145459       NaN         NaN            NaN        ESE  ...        62.0   \n",
       "\n",
       "        Humidity3pm  Pressure9am  Pressure3pm  Cloud9am  Cloud3pm  Temp9am  \\\n",
       "0              22.0       1007.7       1007.1       8.0       NaN     16.9   \n",
       "1              25.0       1010.6       1007.8       NaN       NaN     17.2   \n",
       "2              30.0       1007.6       1008.7       NaN       2.0     21.0   \n",
       "3              16.0       1017.6       1012.8       NaN       NaN     18.1   \n",
       "4              33.0       1010.8       1006.0       7.0       8.0     17.8   \n",
       "...             ...          ...          ...       ...       ...      ...   \n",
       "145455         24.0       1024.6       1020.3       NaN       NaN     10.1   \n",
       "145456         21.0       1023.5       1019.1       NaN       NaN     10.9   \n",
       "145457         24.0       1021.0       1016.8       NaN       NaN     12.5   \n",
       "145458         24.0       1019.4       1016.5       3.0       2.0     15.1   \n",
       "145459         36.0       1020.2       1017.9       8.0       8.0     15.0   \n",
       "\n",
       "        Temp3pm  RainToday  RainTomorrow  \n",
       "0          21.8         No            No  \n",
       "1          24.3         No            No  \n",
       "2          23.2         No            No  \n",
       "3          26.5         No            No  \n",
       "4          29.7         No            No  \n",
       "...         ...        ...           ...  \n",
       "145455     22.4         No            No  \n",
       "145456     24.5         No            No  \n",
       "145457     26.1         No            No  \n",
       "145458     26.0         No            No  \n",
       "145459     20.9         No           NaN  \n",
       "\n",
       "[145460 rows x 23 columns]"
      ]
     },
     "execution_count": 7,
     "metadata": {},
     "output_type": "execute_result"
    }
   ],
   "source": [
    "df_pandas = pd.read_csv(\"data/weatherAUS.csv\")\n",
    "df_pandas"
   ]
  },
  {
   "cell_type": "code",
   "execution_count": 30,
   "id": "ae728ad0",
   "metadata": {},
   "outputs": [],
   "source": [
    "df_spark = spark.read.csv(\"data/weatherAUS.csv\", header = True, inferSchema=True)"
   ]
  },
  {
   "cell_type": "code",
   "execution_count": 31,
   "id": "770ee222",
   "metadata": {},
   "outputs": [
    {
     "name": "stdout",
     "output_type": "stream",
     "text": [
      "+----------+--------+-------+-------+--------+-----------+--------+-----------+-------------+----------+----------+------------+------------+-----------+-----------+-----------+-----------+--------+--------+-------+-------+---------+------------+\n",
      "|      Date|Location|MinTemp|MaxTemp|Rainfall|Evaporation|Sunshine|WindGustDir|WindGustSpeed|WindDir9am|WindDir3pm|WindSpeed9am|WindSpeed3pm|Humidity9am|Humidity3pm|Pressure9am|Pressure3pm|Cloud9am|Cloud3pm|Temp9am|Temp3pm|RainToday|RainTomorrow|\n",
      "+----------+--------+-------+-------+--------+-----------+--------+-----------+-------------+----------+----------+------------+------------+-----------+-----------+-----------+-----------+--------+--------+-------+-------+---------+------------+\n",
      "|2008-12-01|  Albury|   13.4|   22.9|     0.6|         NA|      NA|          W|           44|         W|       WNW|          20|          24|         71|         22|     1007.7|     1007.1|       8|      NA|   16.9|   21.8|       No|          No|\n",
      "|2008-12-02|  Albury|    7.4|   25.1|       0|         NA|      NA|        WNW|           44|       NNW|       WSW|           4|          22|         44|         25|     1010.6|     1007.8|      NA|      NA|   17.2|   24.3|       No|          No|\n",
      "|2008-12-03|  Albury|   12.9|   25.7|       0|         NA|      NA|        WSW|           46|         W|       WSW|          19|          26|         38|         30|     1007.6|     1008.7|      NA|       2|     21|   23.2|       No|          No|\n",
      "|2008-12-04|  Albury|    9.2|     28|       0|         NA|      NA|         NE|           24|        SE|         E|          11|           9|         45|         16|     1017.6|     1012.8|      NA|      NA|   18.1|   26.5|       No|          No|\n",
      "|2008-12-05|  Albury|   17.5|   32.3|       1|         NA|      NA|          W|           41|       ENE|        NW|           7|          20|         82|         33|     1010.8|       1006|       7|       8|   17.8|   29.7|       No|          No|\n",
      "|2008-12-06|  Albury|   14.6|   29.7|     0.2|         NA|      NA|        WNW|           56|         W|         W|          19|          24|         55|         23|     1009.2|     1005.4|      NA|      NA|   20.6|   28.9|       No|          No|\n",
      "|2008-12-07|  Albury|   14.3|     25|       0|         NA|      NA|          W|           50|        SW|         W|          20|          24|         49|         19|     1009.6|     1008.2|       1|      NA|   18.1|   24.6|       No|          No|\n",
      "|2008-12-08|  Albury|    7.7|   26.7|       0|         NA|      NA|          W|           35|       SSE|         W|           6|          17|         48|         19|     1013.4|     1010.1|      NA|      NA|   16.3|   25.5|       No|          No|\n",
      "|2008-12-09|  Albury|    9.7|   31.9|       0|         NA|      NA|        NNW|           80|        SE|        NW|           7|          28|         42|          9|     1008.9|     1003.6|      NA|      NA|   18.3|   30.2|       No|         Yes|\n",
      "|2008-12-10|  Albury|   13.1|   30.1|     1.4|         NA|      NA|          W|           28|         S|       SSE|          15|          11|         58|         27|       1007|     1005.7|      NA|      NA|   20.1|   28.2|      Yes|          No|\n",
      "|2008-12-11|  Albury|   13.4|   30.4|       0|         NA|      NA|          N|           30|       SSE|       ESE|          17|           6|         48|         22|     1011.8|     1008.7|      NA|      NA|   20.4|   28.8|       No|         Yes|\n",
      "|2008-12-12|  Albury|   15.9|   21.7|     2.2|         NA|      NA|        NNE|           31|        NE|       ENE|          15|          13|         89|         91|     1010.5|     1004.2|       8|       8|   15.9|     17|      Yes|         Yes|\n",
      "|2008-12-13|  Albury|   15.9|   18.6|    15.6|         NA|      NA|          W|           61|       NNW|       NNW|          28|          28|         76|         93|      994.3|        993|       8|       8|   17.4|   15.8|      Yes|         Yes|\n",
      "|2008-12-14|  Albury|   12.6|     21|     3.6|         NA|      NA|         SW|           44|         W|       SSW|          24|          20|         65|         43|     1001.2|     1001.8|      NA|       7|   15.8|   19.8|      Yes|          No|\n",
      "|2008-12-15|  Albury|    8.4|   24.6|       0|         NA|      NA|         NA|           NA|         S|       WNW|           4|          30|         57|         32|     1009.7|     1008.7|      NA|      NA|   15.9|   23.5|       No|          NA|\n",
      "|2008-12-16|  Albury|    9.8|   27.7|      NA|         NA|      NA|        WNW|           50|        NA|       WNW|          NA|          22|         50|         28|     1013.4|     1010.3|       0|      NA|   17.3|   26.2|       NA|          No|\n",
      "|2008-12-17|  Albury|   14.1|   20.9|       0|         NA|      NA|        ENE|           22|       SSW|         E|          11|           9|         69|         82|     1012.2|     1010.4|       8|       1|   17.2|   18.1|       No|         Yes|\n",
      "|2008-12-18|  Albury|   13.5|   22.9|    16.8|         NA|      NA|          W|           63|         N|       WNW|           6|          20|         80|         65|     1005.8|     1002.2|       8|       1|     18|   21.5|      Yes|         Yes|\n",
      "|2008-12-19|  Albury|   11.2|   22.5|    10.6|         NA|      NA|        SSE|           43|       WSW|        SW|          24|          17|         47|         32|     1009.4|     1009.7|      NA|       2|   15.5|     21|      Yes|          No|\n",
      "|2008-12-20|  Albury|    9.8|   25.6|       0|         NA|      NA|        SSE|           26|        SE|       NNW|          17|           6|         45|         26|     1019.2|     1017.1|      NA|      NA|   15.8|   23.2|       No|          No|\n",
      "+----------+--------+-------+-------+--------+-----------+--------+-----------+-------------+----------+----------+------------+------------+-----------+-----------+-----------+-----------+--------+--------+-------+-------+---------+------------+\n",
      "only showing top 20 rows\n",
      "\n"
     ]
    }
   ],
   "source": [
    "df_spark.show()"
   ]
  },
  {
   "cell_type": "markdown",
   "id": "56207110",
   "metadata": {},
   "source": [
    "### Drop Columns"
   ]
  },
  {
   "cell_type": "code",
   "execution_count": null,
   "id": "5466dd8e",
   "metadata": {},
   "outputs": [],
   "source": [
    "df_spark =  df_spark.drop(*['Pressure9am', 'Pressure3pm', 'Cloud9am', 'Evaporation', 'Sunshine', 'WindDir9am', 'WindDir3pm', 'WindSpeed9am', 'WindSpeed3pm'])"
   ]
  },
  {
   "cell_type": "code",
   "execution_count": 61,
   "id": "df5789ee",
   "metadata": {},
   "outputs": [],
   "source": [
    "df_spark =  df_spark.drop(*['RainTomorrow', 'WindGustDir', 'Cloud3pm'])"
   ]
  },
  {
   "cell_type": "code",
   "execution_count": 62,
   "id": "e66cfbdf",
   "metadata": {},
   "outputs": [
    {
     "data": {
      "text/plain": [
       "pyspark.sql.dataframe.DataFrame"
      ]
     },
     "execution_count": 62,
     "metadata": {},
     "output_type": "execute_result"
    }
   ],
   "source": [
    "type(df_spark)"
   ]
  },
  {
   "cell_type": "code",
   "execution_count": 63,
   "id": "fa839125",
   "metadata": {},
   "outputs": [
    {
     "data": {
      "text/plain": [
       "[Row(Date=datetime.date(2008, 12, 1), Location='Albury', MinTemp='13.4', MaxTemp='22.9', Rainfall='0.6', WindGustSpeed='44', Humidity9am='71', Humidity3pm='22', Temp9am='16.9', Temp3pm='21.8', RainToday='No', Range=9.499999999999998),\n",
       " Row(Date=datetime.date(2008, 12, 2), Location='Albury', MinTemp='7.4', MaxTemp='25.1', Rainfall='0', WindGustSpeed='44', Humidity9am='44', Humidity3pm='25', Temp9am='17.2', Temp3pm='24.3', RainToday='No', Range=17.700000000000003),\n",
       " Row(Date=datetime.date(2008, 12, 3), Location='Albury', MinTemp='12.9', MaxTemp='25.7', Rainfall='0', WindGustSpeed='46', Humidity9am='38', Humidity3pm='30', Temp9am='21', Temp3pm='23.2', RainToday='No', Range=12.799999999999999),\n",
       " Row(Date=datetime.date(2008, 12, 4), Location='Albury', MinTemp='9.2', MaxTemp='28', Rainfall='0', WindGustSpeed='24', Humidity9am='45', Humidity3pm='16', Temp9am='18.1', Temp3pm='26.5', RainToday='No', Range=18.8),\n",
       " Row(Date=datetime.date(2008, 12, 5), Location='Albury', MinTemp='17.5', MaxTemp='32.3', Rainfall='1', WindGustSpeed='41', Humidity9am='82', Humidity3pm='33', Temp9am='17.8', Temp3pm='29.7', RainToday='No', Range=14.799999999999997)]"
      ]
     },
     "execution_count": 63,
     "metadata": {},
     "output_type": "execute_result"
    }
   ],
   "source": [
    "df_spark.head(5)"
   ]
  },
  {
   "cell_type": "code",
   "execution_count": 64,
   "id": "e64ab18d",
   "metadata": {},
   "outputs": [
    {
     "name": "stdout",
     "output_type": "stream",
     "text": [
      "root\n",
      " |-- Date: date (nullable = true)\n",
      " |-- Location: string (nullable = true)\n",
      " |-- MinTemp: string (nullable = true)\n",
      " |-- MaxTemp: string (nullable = true)\n",
      " |-- Rainfall: string (nullable = true)\n",
      " |-- WindGustSpeed: string (nullable = true)\n",
      " |-- Humidity9am: string (nullable = true)\n",
      " |-- Humidity3pm: string (nullable = true)\n",
      " |-- Temp9am: string (nullable = true)\n",
      " |-- Temp3pm: string (nullable = true)\n",
      " |-- RainToday: string (nullable = true)\n",
      " |-- Range: double (nullable = true)\n",
      "\n"
     ]
    }
   ],
   "source": [
    "df_spark.printSchema()"
   ]
  },
  {
   "cell_type": "code",
   "execution_count": 65,
   "id": "5033380a",
   "metadata": {},
   "outputs": [
    {
     "data": {
      "text/plain": [
       "['Date',\n",
       " 'Location',\n",
       " 'MinTemp',\n",
       " 'MaxTemp',\n",
       " 'Rainfall',\n",
       " 'WindGustSpeed',\n",
       " 'Humidity9am',\n",
       " 'Humidity3pm',\n",
       " 'Temp9am',\n",
       " 'Temp3pm',\n",
       " 'RainToday',\n",
       " 'Range']"
      ]
     },
     "execution_count": 65,
     "metadata": {},
     "output_type": "execute_result"
    }
   ],
   "source": [
    "df_spark.columns"
   ]
  },
  {
   "cell_type": "markdown",
   "id": "b42dc5c0",
   "metadata": {},
   "source": [
    "### Select Columns"
   ]
  },
  {
   "cell_type": "code",
   "execution_count": 66,
   "id": "2e9cdeb4",
   "metadata": {},
   "outputs": [
    {
     "name": "stdout",
     "output_type": "stream",
     "text": [
      "+----------+-------+--------+\n",
      "|      Date|MinTemp|Location|\n",
      "+----------+-------+--------+\n",
      "|2008-12-01|   13.4|  Albury|\n",
      "|2008-12-02|    7.4|  Albury|\n",
      "|2008-12-03|   12.9|  Albury|\n",
      "|2008-12-04|    9.2|  Albury|\n",
      "|2008-12-05|   17.5|  Albury|\n",
      "|2008-12-06|   14.6|  Albury|\n",
      "|2008-12-07|   14.3|  Albury|\n",
      "|2008-12-08|    7.7|  Albury|\n",
      "|2008-12-09|    9.7|  Albury|\n",
      "|2008-12-10|   13.1|  Albury|\n",
      "|2008-12-11|   13.4|  Albury|\n",
      "|2008-12-12|   15.9|  Albury|\n",
      "|2008-12-13|   15.9|  Albury|\n",
      "|2008-12-14|   12.6|  Albury|\n",
      "|2008-12-15|    8.4|  Albury|\n",
      "|2008-12-16|    9.8|  Albury|\n",
      "|2008-12-17|   14.1|  Albury|\n",
      "|2008-12-18|   13.5|  Albury|\n",
      "|2008-12-19|   11.2|  Albury|\n",
      "|2008-12-20|    9.8|  Albury|\n",
      "+----------+-------+--------+\n",
      "only showing top 20 rows\n",
      "\n"
     ]
    }
   ],
   "source": [
    "df_spark.select(['Date', 'MinTemp', 'Location']).show()"
   ]
  },
  {
   "cell_type": "code",
   "execution_count": 67,
   "id": "029b10be",
   "metadata": {},
   "outputs": [
    {
     "data": {
      "text/plain": [
       "[('Date', 'date'),\n",
       " ('Location', 'string'),\n",
       " ('MinTemp', 'string'),\n",
       " ('MaxTemp', 'string'),\n",
       " ('Rainfall', 'string'),\n",
       " ('WindGustSpeed', 'string'),\n",
       " ('Humidity9am', 'string'),\n",
       " ('Humidity3pm', 'string'),\n",
       " ('Temp9am', 'string'),\n",
       " ('Temp3pm', 'string'),\n",
       " ('RainToday', 'string'),\n",
       " ('Range', 'double')]"
      ]
     },
     "execution_count": 67,
     "metadata": {},
     "output_type": "execute_result"
    }
   ],
   "source": [
    "df_spark.dtypes"
   ]
  },
  {
   "cell_type": "code",
   "execution_count": 68,
   "id": "4fc85e08",
   "metadata": {},
   "outputs": [
    {
     "name": "stdout",
     "output_type": "stream",
     "text": [
      "+-------+--------+------------------+------------------+-----------------+------------------+------------------+-----------------+------------------+------------------+---------+------------------+\n",
      "|summary|Location|           MinTemp|           MaxTemp|         Rainfall|     WindGustSpeed|       Humidity9am|      Humidity3pm|           Temp9am|           Temp3pm|RainToday|             Range|\n",
      "+-------+--------+------------------+------------------+-----------------+------------------+------------------+-----------------+------------------+------------------+---------+------------------+\n",
      "|  count|  145460|            145460|            145460|           145460|            145460|            145460|           145460|            145460|            145460|   145460|            143579|\n",
      "|   mean|    NULL|12.194034380968981|23.221348275647017| 2.36091814991655| 40.03523007167319| 68.88083133761887| 51.5391158755046|16.990631415587327|21.683390318009845|     NULL|11.029981403965817|\n",
      "| stddev|    NULL| 6.398494975663194| 7.119048845979138|8.478059737726397|13.607062267381362|19.029164451844146|20.79590165602108| 6.488753140877246| 6.936650460035525|     NULL| 4.949355155946771|\n",
      "|    min|Adelaide|              -0.1|              -0.1|                0|               100|                 0|                0|              -0.1|              -0.1|       NA|               0.0|\n",
      "|    max| Woomera|                NA|                NA|               NA|                NA|                NA|               NA|                NA|                NA|      Yes|31.200000000000003|\n",
      "+-------+--------+------------------+------------------+-----------------+------------------+------------------+-----------------+------------------+------------------+---------+------------------+\n",
      "\n"
     ]
    }
   ],
   "source": [
    "df_spark.describe().show()"
   ]
  },
  {
   "cell_type": "markdown",
   "id": "84e109e5",
   "metadata": {},
   "source": [
    "### Create new column"
   ]
  },
  {
   "cell_type": "code",
   "execution_count": 111,
   "id": "0cf75754",
   "metadata": {},
   "outputs": [],
   "source": [
    "from pyspark.sql.functions import round \n",
    "df_spark = df_spark.withColumn(\"Range\", round(df_spark['MaxTemp']- df_spark['MinTemp'],1))"
   ]
  },
  {
   "cell_type": "code",
   "execution_count": 112,
   "id": "0bce80ab",
   "metadata": {},
   "outputs": [
    {
     "name": "stdout",
     "output_type": "stream",
     "text": [
      "+----------+--------+-------+-------+--------+---------+-----------+-----------+-------+-------+---------+-----+\n",
      "|      Date|Location|MinTemp|MaxTemp|Rainfall|Windspeed|Humidity9am|Humidity3pm|Temp9am|Temp3pm|RainToday|Range|\n",
      "+----------+--------+-------+-------+--------+---------+-----------+-----------+-------+-------+---------+-----+\n",
      "|2008-12-01|  Albury|   13.4|   22.9|     0.6|       44|         71|         22|   16.9|   21.8|       No|  9.5|\n",
      "|2008-12-02|  Albury|    7.4|   25.1|       0|       44|         44|         25|   17.2|   24.3|       No| 17.7|\n",
      "|2008-12-03|  Albury|   12.9|   25.7|       0|       46|         38|         30|     21|   23.2|       No| 12.8|\n",
      "|2008-12-04|  Albury|    9.2|     28|       0|       24|         45|         16|   18.1|   26.5|       No| 18.8|\n",
      "|2008-12-05|  Albury|   17.5|   32.3|       1|       41|         82|         33|   17.8|   29.7|       No| 14.8|\n",
      "|2008-12-06|  Albury|   14.6|   29.7|     0.2|       56|         55|         23|   20.6|   28.9|       No| 15.1|\n",
      "|2008-12-07|  Albury|   14.3|     25|       0|       50|         49|         19|   18.1|   24.6|       No| 10.7|\n",
      "|2008-12-08|  Albury|    7.7|   26.7|       0|       35|         48|         19|   16.3|   25.5|       No| 19.0|\n",
      "|2008-12-09|  Albury|    9.7|   31.9|       0|       80|         42|          9|   18.3|   30.2|       No| 22.2|\n",
      "|2008-12-10|  Albury|   13.1|   30.1|     1.4|       28|         58|         27|   20.1|   28.2|      Yes| 17.0|\n",
      "|2008-12-11|  Albury|   13.4|   30.4|       0|       30|         48|         22|   20.4|   28.8|       No| 17.0|\n",
      "|2008-12-12|  Albury|   15.9|   21.7|     2.2|       31|         89|         91|   15.9|     17|      Yes|  5.8|\n",
      "|2008-12-13|  Albury|   15.9|   18.6|    15.6|       61|         76|         93|   17.4|   15.8|      Yes|  2.7|\n",
      "|2008-12-14|  Albury|   12.6|     21|     3.6|       44|         65|         43|   15.8|   19.8|      Yes|  8.4|\n",
      "|2008-12-15|  Albury|    8.4|   24.6|       0|     NULL|         57|         32|   15.9|   23.5|       No| 16.2|\n",
      "|2008-12-16|  Albury|    9.8|   27.7|    NULL|       50|         50|         28|   17.3|   26.2|     NULL| 17.9|\n",
      "|2008-12-17|  Albury|   14.1|   20.9|       0|       22|         69|         82|   17.2|   18.1|       No|  6.8|\n",
      "|2008-12-18|  Albury|   13.5|   22.9|    16.8|       63|         80|         65|     18|   21.5|      Yes|  9.4|\n",
      "|2008-12-19|  Albury|   11.2|   22.5|    10.6|       43|         47|         32|   15.5|     21|      Yes| 11.3|\n",
      "|2008-12-20|  Albury|    9.8|   25.6|       0|       26|         45|         26|   15.8|   23.2|       No| 15.8|\n",
      "+----------+--------+-------+-------+--------+---------+-----------+-----------+-------+-------+---------+-----+\n",
      "only showing top 20 rows\n",
      "\n"
     ]
    }
   ],
   "source": [
    "df_spark.show()"
   ]
  },
  {
   "cell_type": "code",
   "execution_count": 113,
   "id": "8566bd74",
   "metadata": {},
   "outputs": [
    {
     "name": "stdout",
     "output_type": "stream",
     "text": [
      "+----------+--------+-------+-------+--------+---------+-----------+-----------+-------+-------+---------+-----+\n",
      "|      Date|Location|MinTemp|MaxTemp|Rainfall|Windspeed|Humidity9am|Humidity3pm|Temp9am|Temp3pm|RainToday|Range|\n",
      "+----------+--------+-------+-------+--------+---------+-----------+-----------+-------+-------+---------+-----+\n",
      "|2008-12-01|  Albury|   13.4|   22.9|     0.6|       44|         71|         22|   16.9|   21.8|       No|  9.5|\n",
      "|2008-12-02|  Albury|    7.4|   25.1|       0|       44|         44|         25|   17.2|   24.3|       No| 17.7|\n",
      "|2008-12-03|  Albury|   12.9|   25.7|       0|       46|         38|         30|     21|   23.2|       No| 12.8|\n",
      "|2008-12-04|  Albury|    9.2|     28|       0|       24|         45|         16|   18.1|   26.5|       No| 18.8|\n",
      "|2008-12-05|  Albury|   17.5|   32.3|       1|       41|         82|         33|   17.8|   29.7|       No| 14.8|\n",
      "|2008-12-06|  Albury|   14.6|   29.7|     0.2|       56|         55|         23|   20.6|   28.9|       No| 15.1|\n",
      "|2008-12-07|  Albury|   14.3|     25|       0|       50|         49|         19|   18.1|   24.6|       No| 10.7|\n",
      "|2008-12-08|  Albury|    7.7|   26.7|       0|       35|         48|         19|   16.3|   25.5|       No| 19.0|\n",
      "|2008-12-09|  Albury|    9.7|   31.9|       0|       80|         42|          9|   18.3|   30.2|       No| 22.2|\n",
      "|2008-12-10|  Albury|   13.1|   30.1|     1.4|       28|         58|         27|   20.1|   28.2|      Yes| 17.0|\n",
      "|2008-12-11|  Albury|   13.4|   30.4|       0|       30|         48|         22|   20.4|   28.8|       No| 17.0|\n",
      "|2008-12-12|  Albury|   15.9|   21.7|     2.2|       31|         89|         91|   15.9|     17|      Yes|  5.8|\n",
      "|2008-12-13|  Albury|   15.9|   18.6|    15.6|       61|         76|         93|   17.4|   15.8|      Yes|  2.7|\n",
      "|2008-12-14|  Albury|   12.6|     21|     3.6|       44|         65|         43|   15.8|   19.8|      Yes|  8.4|\n",
      "|2008-12-15|  Albury|    8.4|   24.6|       0|     NULL|         57|         32|   15.9|   23.5|       No| 16.2|\n",
      "|2008-12-16|  Albury|    9.8|   27.7|    NULL|       50|         50|         28|   17.3|   26.2|     NULL| 17.9|\n",
      "|2008-12-17|  Albury|   14.1|   20.9|       0|       22|         69|         82|   17.2|   18.1|       No|  6.8|\n",
      "|2008-12-18|  Albury|   13.5|   22.9|    16.8|       63|         80|         65|     18|   21.5|      Yes|  9.4|\n",
      "|2008-12-19|  Albury|   11.2|   22.5|    10.6|       43|         47|         32|   15.5|     21|      Yes| 11.3|\n",
      "|2008-12-20|  Albury|    9.8|   25.6|       0|       26|         45|         26|   15.8|   23.2|       No| 15.8|\n",
      "+----------+--------+-------+-------+--------+---------+-----------+-----------+-------+-------+---------+-----+\n",
      "only showing top 20 rows\n",
      "\n"
     ]
    }
   ],
   "source": [
    "## Rename column\n",
    "df_spark = df_spark.withColumnRenamed('WindGustSpeed', 'Windspeed')\n",
    "df_spark.show()"
   ]
  },
  {
   "cell_type": "markdown",
   "id": "e52b850f",
   "metadata": {},
   "source": [
    "### Drop NA rows"
   ]
  },
  {
   "cell_type": "code",
   "execution_count": 114,
   "id": "9ebe6735",
   "metadata": {},
   "outputs": [
    {
     "name": "stdout",
     "output_type": "stream",
     "text": [
      "+----------+--------+-------+-------+--------+---------+-----------+-----------+-------+-------+---------+-----+\n",
      "|      Date|Location|MinTemp|MaxTemp|Rainfall|Windspeed|Humidity9am|Humidity3pm|Temp9am|Temp3pm|RainToday|Range|\n",
      "+----------+--------+-------+-------+--------+---------+-----------+-----------+-------+-------+---------+-----+\n",
      "|2008-12-01|  Albury|   13.4|   22.9|     0.6|       44|         71|         22|   16.9|   21.8|       No|  9.5|\n",
      "|2008-12-02|  Albury|    7.4|   25.1|       0|       44|         44|         25|   17.2|   24.3|       No| 17.7|\n",
      "|2008-12-03|  Albury|   12.9|   25.7|       0|       46|         38|         30|     21|   23.2|       No| 12.8|\n",
      "|2008-12-04|  Albury|    9.2|     28|       0|       24|         45|         16|   18.1|   26.5|       No| 18.8|\n",
      "|2008-12-05|  Albury|   17.5|   32.3|       1|       41|         82|         33|   17.8|   29.7|       No| 14.8|\n",
      "|2008-12-06|  Albury|   14.6|   29.7|     0.2|       56|         55|         23|   20.6|   28.9|       No| 15.1|\n",
      "|2008-12-07|  Albury|   14.3|     25|       0|       50|         49|         19|   18.1|   24.6|       No| 10.7|\n",
      "|2008-12-08|  Albury|    7.7|   26.7|       0|       35|         48|         19|   16.3|   25.5|       No| 19.0|\n",
      "|2008-12-09|  Albury|    9.7|   31.9|       0|       80|         42|          9|   18.3|   30.2|       No| 22.2|\n",
      "|2008-12-10|  Albury|   13.1|   30.1|     1.4|       28|         58|         27|   20.1|   28.2|      Yes| 17.0|\n",
      "|2008-12-11|  Albury|   13.4|   30.4|       0|       30|         48|         22|   20.4|   28.8|       No| 17.0|\n",
      "|2008-12-12|  Albury|   15.9|   21.7|     2.2|       31|         89|         91|   15.9|     17|      Yes|  5.8|\n",
      "|2008-12-13|  Albury|   15.9|   18.6|    15.6|       61|         76|         93|   17.4|   15.8|      Yes|  2.7|\n",
      "|2008-12-14|  Albury|   12.6|     21|     3.6|       44|         65|         43|   15.8|   19.8|      Yes|  8.4|\n",
      "|2008-12-17|  Albury|   14.1|   20.9|       0|       22|         69|         82|   17.2|   18.1|       No|  6.8|\n",
      "|2008-12-18|  Albury|   13.5|   22.9|    16.8|       63|         80|         65|     18|   21.5|      Yes|  9.4|\n",
      "|2008-12-19|  Albury|   11.2|   22.5|    10.6|       43|         47|         32|   15.5|     21|      Yes| 11.3|\n",
      "|2008-12-20|  Albury|    9.8|   25.6|       0|       26|         45|         26|   15.8|   23.2|       No| 15.8|\n",
      "|2008-12-21|  Albury|   11.5|   29.3|       0|       24|         56|         28|   19.1|   27.3|       No| 17.8|\n",
      "|2008-12-22|  Albury|   17.1|     33|       0|       43|         38|         28|   24.5|   31.6|       No| 15.9|\n",
      "+----------+--------+-------+-------+--------+---------+-----------+-----------+-------+-------+---------+-----+\n",
      "only showing top 20 rows\n",
      "\n"
     ]
    }
   ],
   "source": [
    "df_spark.na.drop().show()"
   ]
  },
  {
   "cell_type": "markdown",
   "id": "d641e777",
   "metadata": {},
   "source": [
    "###### In the above cell, we tried to drop Null values but there were some NAs acting as a string. Imposters!\n",
    "###### Hence, lets transform them into Nulls"
   ]
  },
  {
   "cell_type": "code",
   "execution_count": 115,
   "id": "7e6ce789",
   "metadata": {},
   "outputs": [
    {
     "name": "stdout",
     "output_type": "stream",
     "text": [
      "+----------+--------+-------+-------+--------+---------+-----------+-----------+-------+-------+---------+-----+\n",
      "|      Date|Location|MinTemp|MaxTemp|Rainfall|Windspeed|Humidity9am|Humidity3pm|Temp9am|Temp3pm|RainToday|Range|\n",
      "+----------+--------+-------+-------+--------+---------+-----------+-----------+-------+-------+---------+-----+\n",
      "|2008-12-01|  Albury|   13.4|   22.9|     0.6|       44|         71|         22|   16.9|   21.8|       No|  9.5|\n",
      "|2008-12-02|  Albury|    7.4|   25.1|       0|       44|         44|         25|   17.2|   24.3|       No| 17.7|\n",
      "|2008-12-03|  Albury|   12.9|   25.7|       0|       46|         38|         30|     21|   23.2|       No| 12.8|\n",
      "|2008-12-04|  Albury|    9.2|     28|       0|       24|         45|         16|   18.1|   26.5|       No| 18.8|\n",
      "|2008-12-05|  Albury|   17.5|   32.3|       1|       41|         82|         33|   17.8|   29.7|       No| 14.8|\n",
      "|2008-12-06|  Albury|   14.6|   29.7|     0.2|       56|         55|         23|   20.6|   28.9|       No| 15.1|\n",
      "|2008-12-07|  Albury|   14.3|     25|       0|       50|         49|         19|   18.1|   24.6|       No| 10.7|\n",
      "|2008-12-08|  Albury|    7.7|   26.7|       0|       35|         48|         19|   16.3|   25.5|       No| 19.0|\n",
      "|2008-12-09|  Albury|    9.7|   31.9|       0|       80|         42|          9|   18.3|   30.2|       No| 22.2|\n",
      "|2008-12-10|  Albury|   13.1|   30.1|     1.4|       28|         58|         27|   20.1|   28.2|      Yes| 17.0|\n",
      "|2008-12-11|  Albury|   13.4|   30.4|       0|       30|         48|         22|   20.4|   28.8|       No| 17.0|\n",
      "|2008-12-12|  Albury|   15.9|   21.7|     2.2|       31|         89|         91|   15.9|     17|      Yes|  5.8|\n",
      "|2008-12-13|  Albury|   15.9|   18.6|    15.6|       61|         76|         93|   17.4|   15.8|      Yes|  2.7|\n",
      "|2008-12-14|  Albury|   12.6|     21|     3.6|       44|         65|         43|   15.8|   19.8|      Yes|  8.4|\n",
      "|2008-12-15|  Albury|    8.4|   24.6|       0|     NULL|         57|         32|   15.9|   23.5|       No| 16.2|\n",
      "|2008-12-16|  Albury|    9.8|   27.7|    NULL|       50|         50|         28|   17.3|   26.2|     NULL| 17.9|\n",
      "|2008-12-17|  Albury|   14.1|   20.9|       0|       22|         69|         82|   17.2|   18.1|       No|  6.8|\n",
      "|2008-12-18|  Albury|   13.5|   22.9|    16.8|       63|         80|         65|     18|   21.5|      Yes|  9.4|\n",
      "|2008-12-19|  Albury|   11.2|   22.5|    10.6|       43|         47|         32|   15.5|     21|      Yes| 11.3|\n",
      "|2008-12-20|  Albury|    9.8|   25.6|       0|       26|         45|         26|   15.8|   23.2|       No| 15.8|\n",
      "+----------+--------+-------+-------+--------+---------+-----------+-----------+-------+-------+---------+-----+\n",
      "only showing top 20 rows\n",
      "\n"
     ]
    }
   ],
   "source": [
    "df_spark = df_spark.replace({'NA': None})\n",
    "df_spark.show()"
   ]
  },
  {
   "cell_type": "code",
   "execution_count": 116,
   "id": "e7d3a7b7",
   "metadata": {},
   "outputs": [
    {
     "name": "stdout",
     "output_type": "stream",
     "text": [
      "+----------+--------+-------+-------+--------+---------+-----------+-----------+-------+-------+---------+-----+\n",
      "|      Date|Location|MinTemp|MaxTemp|Rainfall|Windspeed|Humidity9am|Humidity3pm|Temp9am|Temp3pm|RainToday|Range|\n",
      "+----------+--------+-------+-------+--------+---------+-----------+-----------+-------+-------+---------+-----+\n",
      "|2008-12-01|  Albury|   13.4|   22.9|     0.6|       44|         71|         22|   16.9|   21.8|       No|  9.5|\n",
      "|2008-12-02|  Albury|    7.4|   25.1|       0|       44|         44|         25|   17.2|   24.3|       No| 17.7|\n",
      "|2008-12-03|  Albury|   12.9|   25.7|       0|       46|         38|         30|     21|   23.2|       No| 12.8|\n",
      "|2008-12-04|  Albury|    9.2|     28|       0|       24|         45|         16|   18.1|   26.5|       No| 18.8|\n",
      "|2008-12-05|  Albury|   17.5|   32.3|       1|       41|         82|         33|   17.8|   29.7|       No| 14.8|\n",
      "|2008-12-06|  Albury|   14.6|   29.7|     0.2|       56|         55|         23|   20.6|   28.9|       No| 15.1|\n",
      "|2008-12-07|  Albury|   14.3|     25|       0|       50|         49|         19|   18.1|   24.6|       No| 10.7|\n",
      "|2008-12-08|  Albury|    7.7|   26.7|       0|       35|         48|         19|   16.3|   25.5|       No| 19.0|\n",
      "|2008-12-09|  Albury|    9.7|   31.9|       0|       80|         42|          9|   18.3|   30.2|       No| 22.2|\n",
      "|2008-12-10|  Albury|   13.1|   30.1|     1.4|       28|         58|         27|   20.1|   28.2|      Yes| 17.0|\n",
      "|2008-12-11|  Albury|   13.4|   30.4|       0|       30|         48|         22|   20.4|   28.8|       No| 17.0|\n",
      "|2008-12-12|  Albury|   15.9|   21.7|     2.2|       31|         89|         91|   15.9|     17|      Yes|  5.8|\n",
      "|2008-12-13|  Albury|   15.9|   18.6|    15.6|       61|         76|         93|   17.4|   15.8|      Yes|  2.7|\n",
      "|2008-12-14|  Albury|   12.6|     21|     3.6|       44|         65|         43|   15.8|   19.8|      Yes|  8.4|\n",
      "|2008-12-17|  Albury|   14.1|   20.9|       0|       22|         69|         82|   17.2|   18.1|       No|  6.8|\n",
      "|2008-12-18|  Albury|   13.5|   22.9|    16.8|       63|         80|         65|     18|   21.5|      Yes|  9.4|\n",
      "|2008-12-19|  Albury|   11.2|   22.5|    10.6|       43|         47|         32|   15.5|     21|      Yes| 11.3|\n",
      "|2008-12-20|  Albury|    9.8|   25.6|       0|       26|         45|         26|   15.8|   23.2|       No| 15.8|\n",
      "|2008-12-21|  Albury|   11.5|   29.3|       0|       24|         56|         28|   19.1|   27.3|       No| 17.8|\n",
      "|2008-12-22|  Albury|   17.1|     33|       0|       43|         38|         28|   24.5|   31.6|       No| 15.9|\n",
      "+----------+--------+-------+-------+--------+---------+-----------+-----------+-------+-------+---------+-----+\n",
      "only showing top 20 rows\n",
      "\n"
     ]
    }
   ],
   "source": [
    "# Dropping missing values\n",
    "df_spark.na.drop().show()"
   ]
  },
  {
   "cell_type": "code",
   "execution_count": 117,
   "id": "a6152635",
   "metadata": {},
   "outputs": [
    {
     "name": "stdout",
     "output_type": "stream",
     "text": [
      "+----------+--------+-------+-------+--------+---------+-----------+-----------+-------+-------+---------+-----+\n",
      "|      Date|Location|MinTemp|MaxTemp|Rainfall|Windspeed|Humidity9am|Humidity3pm|Temp9am|Temp3pm|RainToday|Range|\n",
      "+----------+--------+-------+-------+--------+---------+-----------+-----------+-------+-------+---------+-----+\n",
      "|2008-12-01|  Albury|   13.4|   22.9|     0.6|       44|         71|         22|   16.9|   21.8|       No|  9.5|\n",
      "|2008-12-02|  Albury|    7.4|   25.1|       0|       44|         44|         25|   17.2|   24.3|       No| 17.7|\n",
      "|2008-12-03|  Albury|   12.9|   25.7|       0|       46|         38|         30|     21|   23.2|       No| 12.8|\n",
      "|2008-12-04|  Albury|    9.2|     28|       0|       24|         45|         16|   18.1|   26.5|       No| 18.8|\n",
      "|2008-12-05|  Albury|   17.5|   32.3|       1|       41|         82|         33|   17.8|   29.7|       No| 14.8|\n",
      "|2008-12-06|  Albury|   14.6|   29.7|     0.2|       56|         55|         23|   20.6|   28.9|       No| 15.1|\n",
      "|2008-12-07|  Albury|   14.3|     25|       0|       50|         49|         19|   18.1|   24.6|       No| 10.7|\n",
      "|2008-12-08|  Albury|    7.7|   26.7|       0|       35|         48|         19|   16.3|   25.5|       No| 19.0|\n",
      "|2008-12-09|  Albury|    9.7|   31.9|       0|       80|         42|          9|   18.3|   30.2|       No| 22.2|\n",
      "|2008-12-10|  Albury|   13.1|   30.1|     1.4|       28|         58|         27|   20.1|   28.2|      Yes| 17.0|\n",
      "|2008-12-11|  Albury|   13.4|   30.4|       0|       30|         48|         22|   20.4|   28.8|       No| 17.0|\n",
      "|2008-12-12|  Albury|   15.9|   21.7|     2.2|       31|         89|         91|   15.9|     17|      Yes|  5.8|\n",
      "|2008-12-13|  Albury|   15.9|   18.6|    15.6|       61|         76|         93|   17.4|   15.8|      Yes|  2.7|\n",
      "|2008-12-14|  Albury|   12.6|     21|     3.6|       44|         65|         43|   15.8|   19.8|      Yes|  8.4|\n",
      "|2008-12-16|  Albury|    9.8|   27.7|    NULL|       50|         50|         28|   17.3|   26.2|     NULL| 17.9|\n",
      "|2008-12-17|  Albury|   14.1|   20.9|       0|       22|         69|         82|   17.2|   18.1|       No|  6.8|\n",
      "|2008-12-18|  Albury|   13.5|   22.9|    16.8|       63|         80|         65|     18|   21.5|      Yes|  9.4|\n",
      "|2008-12-19|  Albury|   11.2|   22.5|    10.6|       43|         47|         32|   15.5|     21|      Yes| 11.3|\n",
      "|2008-12-20|  Albury|    9.8|   25.6|       0|       26|         45|         26|   15.8|   23.2|       No| 15.8|\n",
      "|2008-12-21|  Albury|   11.5|   29.3|       0|       24|         56|         28|   19.1|   27.3|       No| 17.8|\n",
      "+----------+--------+-------+-------+--------+---------+-----------+-----------+-------+-------+---------+-----+\n",
      "only showing top 20 rows\n",
      "\n"
     ]
    }
   ],
   "source": [
    "df_spark.na.drop(subset=['WindSpeed']).show()"
   ]
  },
  {
   "cell_type": "markdown",
   "id": "77c623a6",
   "metadata": {},
   "source": [
    "### Fill NA"
   ]
  },
  {
   "cell_type": "code",
   "execution_count": 121,
   "id": "7fdb1ec9",
   "metadata": {},
   "outputs": [
    {
     "name": "stdout",
     "output_type": "stream",
     "text": [
      "+----------+--------+-------+-------+--------+---------+-----------+-----------+-------+-------+---------+-----+\n",
      "|      Date|Location|MinTemp|MaxTemp|Rainfall|Windspeed|Humidity9am|Humidity3pm|Temp9am|Temp3pm|RainToday|Range|\n",
      "+----------+--------+-------+-------+--------+---------+-----------+-----------+-------+-------+---------+-----+\n",
      "|2008-12-01|  Albury|   13.4|   22.9|     0.6|       44|         71|         22|   16.9|   21.8|       No|  9.5|\n",
      "|2008-12-02|  Albury|    7.4|   25.1|       0|       44|         44|         25|   17.2|   24.3|       No| 17.7|\n",
      "|2008-12-03|  Albury|   12.9|   25.7|       0|       46|         38|         30|     21|   23.2|       No| 12.8|\n",
      "|2008-12-04|  Albury|    9.2|     28|       0|       24|         45|         16|   18.1|   26.5|       No| 18.8|\n",
      "|2008-12-05|  Albury|   17.5|   32.3|       1|       41|         82|         33|   17.8|   29.7|       No| 14.8|\n",
      "|2008-12-06|  Albury|   14.6|   29.7|     0.2|       56|         55|         23|   20.6|   28.9|       No| 15.1|\n",
      "|2008-12-07|  Albury|   14.3|     25|       0|       50|         49|         19|   18.1|   24.6|       No| 10.7|\n",
      "|2008-12-08|  Albury|    7.7|   26.7|       0|       35|         48|         19|   16.3|   25.5|       No| 19.0|\n",
      "|2008-12-09|  Albury|    9.7|   31.9|       0|       80|         42|          9|   18.3|   30.2|       No| 22.2|\n",
      "|2008-12-10|  Albury|   13.1|   30.1|     1.4|       28|         58|         27|   20.1|   28.2|      Yes| 17.0|\n",
      "|2008-12-11|  Albury|   13.4|   30.4|       0|       30|         48|         22|   20.4|   28.8|       No| 17.0|\n",
      "|2008-12-12|  Albury|   15.9|   21.7|     2.2|       31|         89|         91|   15.9|     17|      Yes|  5.8|\n",
      "|2008-12-13|  Albury|   15.9|   18.6|    15.6|       61|         76|         93|   17.4|   15.8|      Yes|  2.7|\n",
      "|2008-12-14|  Albury|   12.6|     21|     3.6|       44|         65|         43|   15.8|   19.8|      Yes|  8.4|\n",
      "|2008-12-15|  Albury|    8.4|   24.6|       0|        0|         57|         32|   15.9|   23.5|       No| 16.2|\n",
      "|2008-12-16|  Albury|    9.8|   27.7|       0|       50|         50|         28|   17.3|   26.2|     NULL| 17.9|\n",
      "|2008-12-17|  Albury|   14.1|   20.9|       0|       22|         69|         82|   17.2|   18.1|       No|  6.8|\n",
      "|2008-12-18|  Albury|   13.5|   22.9|    16.8|       63|         80|         65|     18|   21.5|      Yes|  9.4|\n",
      "|2008-12-19|  Albury|   11.2|   22.5|    10.6|       43|         47|         32|   15.5|     21|      Yes| 11.3|\n",
      "|2008-12-20|  Albury|    9.8|   25.6|       0|       26|         45|         26|   15.8|   23.2|       No| 15.8|\n",
      "+----------+--------+-------+-------+--------+---------+-----------+-----------+-------+-------+---------+-----+\n",
      "only showing top 20 rows\n",
      "\n"
     ]
    }
   ],
   "source": [
    "df_spark.na.fill('0', subset=['Rainfall', 'WindSpeed']).show()"
   ]
  },
  {
   "cell_type": "markdown",
   "id": "39e01969",
   "metadata": {},
   "source": [
    "### Fill NA using Data Imputation"
   ]
  },
  {
   "cell_type": "code",
   "execution_count": 138,
   "id": "f32def58",
   "metadata": {},
   "outputs": [
    {
     "name": "stdout",
     "output_type": "stream",
     "text": [
      "2.36\n",
      "+----------+--------+-------+-------+--------+---------+-----------+-----------+-------+-------+---------+-----+\n",
      "|      Date|Location|MinTemp|MaxTemp|Rainfall|Windspeed|Humidity9am|Humidity3pm|Temp9am|Temp3pm|RainToday|Range|\n",
      "+----------+--------+-------+-------+--------+---------+-----------+-----------+-------+-------+---------+-----+\n",
      "|2008-12-01|  Albury|   13.4|   22.9|     0.6|       44|         71|         22|   16.9|   21.8|       No|  9.5|\n",
      "|2008-12-02|  Albury|    7.4|   25.1|       0|       44|         44|         25|   17.2|   24.3|       No| 17.7|\n",
      "|2008-12-03|  Albury|   12.9|   25.7|       0|       46|         38|         30|     21|   23.2|       No| 12.8|\n",
      "|2008-12-04|  Albury|    9.2|     28|       0|       24|         45|         16|   18.1|   26.5|       No| 18.8|\n",
      "|2008-12-05|  Albury|   17.5|   32.3|       1|       41|         82|         33|   17.8|   29.7|       No| 14.8|\n",
      "|2008-12-06|  Albury|   14.6|   29.7|     0.2|       56|         55|         23|   20.6|   28.9|       No| 15.1|\n",
      "|2008-12-07|  Albury|   14.3|     25|       0|       50|         49|         19|   18.1|   24.6|       No| 10.7|\n",
      "|2008-12-08|  Albury|    7.7|   26.7|       0|       35|         48|         19|   16.3|   25.5|       No| 19.0|\n",
      "|2008-12-09|  Albury|    9.7|   31.9|       0|       80|         42|          9|   18.3|   30.2|       No| 22.2|\n",
      "|2008-12-10|  Albury|   13.1|   30.1|     1.4|       28|         58|         27|   20.1|   28.2|      Yes| 17.0|\n",
      "|2008-12-11|  Albury|   13.4|   30.4|       0|       30|         48|         22|   20.4|   28.8|       No| 17.0|\n",
      "|2008-12-12|  Albury|   15.9|   21.7|     2.2|       31|         89|         91|   15.9|     17|      Yes|  5.8|\n",
      "|2008-12-13|  Albury|   15.9|   18.6|    15.6|       61|         76|         93|   17.4|   15.8|      Yes|  2.7|\n",
      "|2008-12-14|  Albury|   12.6|     21|     3.6|       44|         65|         43|   15.8|   19.8|      Yes|  8.4|\n",
      "|2008-12-15|  Albury|    8.4|   24.6|       0|     NULL|         57|         32|   15.9|   23.5|       No| 16.2|\n",
      "|2008-12-16|  Albury|    9.8|   27.7|    2.36|       50|         50|         28|   17.3|   26.2|     NULL| 17.9|\n",
      "|2008-12-17|  Albury|   14.1|   20.9|       0|       22|         69|         82|   17.2|   18.1|       No|  6.8|\n",
      "|2008-12-18|  Albury|   13.5|   22.9|    16.8|       63|         80|         65|     18|   21.5|      Yes|  9.4|\n",
      "|2008-12-19|  Albury|   11.2|   22.5|    10.6|       43|         47|         32|   15.5|     21|      Yes| 11.3|\n",
      "|2008-12-20|  Albury|    9.8|   25.6|       0|       26|         45|         26|   15.8|   23.2|       No| 15.8|\n",
      "+----------+--------+-------+-------+--------+---------+-----------+-----------+-------+-------+---------+-----+\n",
      "only showing top 20 rows\n",
      "\n"
     ]
    }
   ],
   "source": [
    "from pyspark.sql.functions import mean as _mean, col\n",
    "import numpy as np\n",
    "\n",
    "df_stats = df_spark.select(\n",
    "    _mean(col('Rainfall')).alias('R_mean')\n",
    ").collect()\n",
    "\n",
    "mean = np.round(df_stats[0]['R_mean'],2)\n",
    "print(mean)\n",
    "\n",
    "df_spark.na.fill(str(mean), subset=['Rainfall']).show()"
   ]
  },
  {
   "cell_type": "markdown",
   "id": "0df4da2f",
   "metadata": {},
   "source": [
    "### Filter Operations"
   ]
  },
  {
   "cell_type": "code",
   "execution_count": 148,
   "id": "91dc10b7",
   "metadata": {},
   "outputs": [
    {
     "name": "stdout",
     "output_type": "stream",
     "text": [
      "+----------+--------+-------+-------+--------+---------+-----------+-----------+-------+-------+---------+-----+\n",
      "|      Date|Location|MinTemp|MaxTemp|Rainfall|Windspeed|Humidity9am|Humidity3pm|Temp9am|Temp3pm|RainToday|Range|\n",
      "+----------+--------+-------+-------+--------+---------+-----------+-----------+-------+-------+---------+-----+\n",
      "|2008-12-12|  Albury|   15.9|   21.7|     2.2|       31|         89|         91|   15.9|     17|      Yes|  5.8|\n",
      "|2008-12-13|  Albury|   15.9|   18.6|    15.6|       61|         76|         93|   17.4|   15.8|      Yes|  2.7|\n",
      "|2008-12-14|  Albury|   12.6|     21|     3.6|       44|         65|         43|   15.8|   19.8|      Yes|  8.4|\n",
      "|2008-12-18|  Albury|   13.5|   22.9|    16.8|       63|         80|         65|     18|   21.5|      Yes|  9.4|\n",
      "|2009-03-13|  Albury|   17.1|   25.8|     5.8|       31|         82|         68|     19|   23.8|      Yes|  8.7|\n",
      "|2009-03-15|  Albury|     10|   19.7|    11.6|       39|         62|         41|   12.7|   18.3|      Yes|  9.7|\n",
      "|2009-04-03|  Albury|   18.4|   28.1|     8.6|       98|         92|         49|     19|   27.4|      Yes|  9.7|\n",
      "|2009-04-25|  Albury|   12.9|   15.8|      20|       70|         83|         89|   13.3|   14.5|      Yes|  2.9|\n",
      "|2009-04-26|  Albury|    8.6|   12.9|      21|       63|         77|         62|    9.5|   11.6|      Yes|  4.3|\n",
      "|2009-04-27|  Albury|    4.5|   11.5|     3.2|       26|         82|         79|    7.6|    9.4|      Yes|  7.0|\n",
      "|2009-04-28|  Albury|    7.6|   14.5|     4.8|       35|         83|         48|   10.1|     14|      Yes|  6.9|\n",
      "|2009-05-16|  Albury|   12.4|   16.4|     1.8|       52|         82|         54|     13|   14.5|      Yes|  4.0|\n",
      "|2009-05-26|  Albury|   11.6|   18.1|     4.2|       19|         97|         74|   13.6|   17.4|      Yes|  6.5|\n",
      "|2009-06-01|  Albury|      8|   14.3|     1.2|       13|         88|         75|    9.2|     14|      Yes|  6.3|\n",
      "|2009-06-02|  Albury|    8.4|   13.4|     1.4|       13|         78|         75|   10.6|   13.4|      Yes|  5.0|\n",
      "|2009-06-03|  Albury|   10.6|   14.3|     4.8|       13|         85|         97|   12.4|     13|      Yes|  3.7|\n",
      "|2009-06-04|  Albury|    8.9|   17.4|       8|       13|         99|         58|   11.3|   16.5|      Yes|  8.5|\n",
      "|2009-06-07|  Albury|    4.7|   11.6|    14.4|       30|         93|         80|     10|   11.5|      Yes|  6.9|\n",
      "|2009-06-08|  Albury|      9|     12|     4.6|       33|         88|         79|   10.3|   11.4|      Yes|  3.0|\n",
      "|2009-06-09|  Albury|    6.3|    8.8|       2|       43|         92|         95|    6.8|    7.9|      Yes|  2.5|\n",
      "+----------+--------+-------+-------+--------+---------+-----------+-----------+-------+-------+---------+-----+\n",
      "only showing top 20 rows\n",
      "\n"
     ]
    }
   ],
   "source": [
    "# this is like pandas df.query\n",
    "df_spark.filter(\"(MaxTemp - MinTemp) < 10 and RainToday = 'Yes'\").show()"
   ]
  },
  {
   "cell_type": "code",
   "execution_count": 151,
   "id": "db3c2b15",
   "metadata": {},
   "outputs": [
    {
     "name": "stdout",
     "output_type": "stream",
     "text": [
      "+----------+--------+-------+-------+--------+---------+-----------+-----------+-------+-------+---------+-----+\n",
      "|      Date|Location|MinTemp|MaxTemp|Rainfall|Windspeed|Humidity9am|Humidity3pm|Temp9am|Temp3pm|RainToday|Range|\n",
      "+----------+--------+-------+-------+--------+---------+-----------+-----------+-------+-------+---------+-----+\n",
      "|2008-12-12|  Albury|   15.9|   21.7|     2.2|       31|         89|         91|   15.9|     17|      Yes|  5.8|\n",
      "|2008-12-13|  Albury|   15.9|   18.6|    15.6|       61|         76|         93|   17.4|   15.8|      Yes|  2.7|\n",
      "|2008-12-14|  Albury|   12.6|     21|     3.6|       44|         65|         43|   15.8|   19.8|      Yes|  8.4|\n",
      "|2008-12-18|  Albury|   13.5|   22.9|    16.8|       63|         80|         65|     18|   21.5|      Yes|  9.4|\n",
      "|2009-03-13|  Albury|   17.1|   25.8|     5.8|       31|         82|         68|     19|   23.8|      Yes|  8.7|\n",
      "|2009-03-15|  Albury|     10|   19.7|    11.6|       39|         62|         41|   12.7|   18.3|      Yes|  9.7|\n",
      "|2009-04-03|  Albury|   18.4|   28.1|     8.6|       98|         92|         49|     19|   27.4|      Yes|  9.7|\n",
      "|2009-04-25|  Albury|   12.9|   15.8|      20|       70|         83|         89|   13.3|   14.5|      Yes|  2.9|\n",
      "|2009-04-26|  Albury|    8.6|   12.9|      21|       63|         77|         62|    9.5|   11.6|      Yes|  4.3|\n",
      "|2009-04-27|  Albury|    4.5|   11.5|     3.2|       26|         82|         79|    7.6|    9.4|      Yes|  7.0|\n",
      "|2009-04-28|  Albury|    7.6|   14.5|     4.8|       35|         83|         48|   10.1|     14|      Yes|  6.9|\n",
      "|2009-05-16|  Albury|   12.4|   16.4|     1.8|       52|         82|         54|     13|   14.5|      Yes|  4.0|\n",
      "|2009-05-26|  Albury|   11.6|   18.1|     4.2|       19|         97|         74|   13.6|   17.4|      Yes|  6.5|\n",
      "|2009-06-01|  Albury|      8|   14.3|     1.2|       13|         88|         75|    9.2|     14|      Yes|  6.3|\n",
      "|2009-06-02|  Albury|    8.4|   13.4|     1.4|       13|         78|         75|   10.6|   13.4|      Yes|  5.0|\n",
      "|2009-06-03|  Albury|   10.6|   14.3|     4.8|       13|         85|         97|   12.4|     13|      Yes|  3.7|\n",
      "|2009-06-04|  Albury|    8.9|   17.4|       8|       13|         99|         58|   11.3|   16.5|      Yes|  8.5|\n",
      "|2009-06-07|  Albury|    4.7|   11.6|    14.4|       30|         93|         80|     10|   11.5|      Yes|  6.9|\n",
      "|2009-06-08|  Albury|      9|     12|     4.6|       33|         88|         79|   10.3|   11.4|      Yes|  3.0|\n",
      "|2009-06-09|  Albury|    6.3|    8.8|       2|       43|         92|         95|    6.8|    7.9|      Yes|  2.5|\n",
      "+----------+--------+-------+-------+--------+---------+-----------+-----------+-------+-------+---------+-----+\n",
      "only showing top 20 rows\n",
      "\n"
     ]
    }
   ],
   "source": [
    "# this is like pandas df mask and filter\n",
    "df_spark.filter((df_spark['Range'] < 10) & (df_spark['RainToday']=='Yes')).show()"
   ]
  },
  {
   "cell_type": "markdown",
   "id": "8ce176af",
   "metadata": {},
   "source": [
    "#### Changing column datatype"
   ]
  },
  {
   "cell_type": "code",
   "execution_count": 155,
   "id": "f505bc2a",
   "metadata": {},
   "outputs": [],
   "source": [
    "df_spark = df_spark.withColumn(\"Rainfall\", df_spark[\"Rainfall\"].cast(\"integer\"))\n",
    "df_spark = df_spark.withColumn(\"MinTemp\", df_spark[\"MinTemp\"].cast(\"integer\"))\n",
    "df_spark = df_spark.withColumn(\"MaxTemp\", df_spark[\"MaxTemp\"].cast(\"integer\"))"
   ]
  },
  {
   "cell_type": "markdown",
   "id": "d8ad5f70",
   "metadata": {},
   "source": [
    "#### GroupBy"
   ]
  },
  {
   "cell_type": "code",
   "execution_count": 156,
   "id": "e8e99e43",
   "metadata": {},
   "outputs": [
    {
     "name": "stdout",
     "output_type": "stream",
     "text": [
      "+-------------+------------------+------------------+------------------+------------------+\n",
      "|     Location|      avg(MinTemp)|      avg(MaxTemp)|     avg(Rainfall)|        avg(Range)|\n",
      "+-------------+------------------+------------------+------------------+------------------+\n",
      "|NorfolkIsland|16.428523936170212| 21.38630319148936|2.9244264507422404| 4.960558696375118|\n",
      "|        Cobar|12.703962703962704|25.428809048569526|1.0508701472556894|12.728038628038636|\n",
      "|SydneyAirport|14.449800531914894|22.939182452642072|2.8722129783693844| 8.480784574468103|\n",
      "|   Wollongong|14.481322314049587| 21.01518653020799|3.4617706237424546|  6.52694472029129|\n",
      "|  Williamtown|12.339541070834718|23.559880239520957| 3.446925186055621| 11.22919440745671|\n",
      "|        Moree|12.469571000997671|26.497507477567297|1.5525578135949545|14.041104090455608|\n",
      "|       Sydney|14.418263473053893|22.552663076002393| 3.177404854659874|  8.13668763102727|\n",
      "|BadgerysCreek|10.682475613858056|23.586577181208053|2.0737704918032787|12.892686215032011|\n",
      "|       Albury| 9.114229118520964|22.185209640145263| 1.791763533709731|13.112082092022519|\n",
      "|   WaggaWagga| 9.220006646726487|22.588899966766366|1.6001344086021505|13.414689265536706|\n",
      "| CoffsHarbour| 13.98496993987976|23.525418060200668| 4.902472062309516|  9.53230666220287|\n",
      "|      Penrith|12.129857190302225| 24.30822826808228|2.0435222672064777|12.195268243918711|\n",
      "|    NorahHead|14.900470746469402|22.132817753866846| 3.230112666439058| 7.230637007077879|\n",
      "|    Newcastle|13.349053100631266|23.699001426533524|3.0480541455160743|10.413006230529597|\n",
      "|     Richmond|10.937771830043493|24.007679465776295|2.0118603863097255| 13.08362357669121|\n",
      "|      Bendigo| 8.183673469387756|21.177265238879738|1.4940672379696769|13.024686882003989|\n",
      "|     Canberra| 6.522740524781341| 20.53189630061171| 1.636337039204213|14.139060676779454|\n",
      "|      Mildura| 10.30109670987039| 24.39248919906946|0.8742933155969405|14.109371884346961|\n",
      "|     Portland| 9.132666666666667| 17.60472074468085| 2.302069425901202| 8.467389129709908|\n",
      "|     Brisbane|15.972361809045227| 25.99213589178987|3.0170832015185067|10.023518284993715|\n",
      "+-------------+------------------+------------------+------------------+------------------+\n",
      "only showing top 20 rows\n",
      "\n"
     ]
    }
   ],
   "source": [
    "df_spark.groupBy('Location').mean().show()"
   ]
  }
 ],
 "metadata": {
  "kernelspec": {
   "display_name": "Python 3 (ipykernel)",
   "language": "python",
   "name": "python3"
  },
  "language_info": {
   "codemirror_mode": {
    "name": "ipython",
    "version": 3
   },
   "file_extension": ".py",
   "mimetype": "text/x-python",
   "name": "python",
   "nbconvert_exporter": "python",
   "pygments_lexer": "ipython3",
   "version": "3.9.13"
  }
 },
 "nbformat": 4,
 "nbformat_minor": 5
}
